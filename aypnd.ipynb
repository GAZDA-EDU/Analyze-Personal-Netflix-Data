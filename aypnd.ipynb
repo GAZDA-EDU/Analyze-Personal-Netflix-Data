{
 "cells": [
  {
   "cell_type": "markdown",
   "id": "e94bf75d",
   "metadata": {},
   "source": [
    "Download and Load Netflix Data"
   ]
  },
  {
   "cell_type": "code",
   "execution_count": 1,
   "id": "31f66108",
   "metadata": {},
   "outputs": [],
   "source": [
    "import pandas as pd"
   ]
  },
  {
   "cell_type": "code",
   "execution_count": 2,
   "id": "df70d339",
   "metadata": {},
   "outputs": [],
   "source": [
    "df = pd.read_csv('ViewingActivity.csv')"
   ]
  },
  {
   "cell_type": "code",
   "execution_count": 3,
   "id": "82d14438",
   "metadata": {},
   "outputs": [
    {
     "data": {
      "text/plain": [
       "(7381, 10)"
      ]
     },
     "execution_count": 3,
     "metadata": {},
     "output_type": "execute_result"
    }
   ],
   "source": [
    "df.shape"
   ]
  },
  {
   "cell_type": "code",
   "execution_count": 4,
   "id": "62f85ecb",
   "metadata": {},
   "outputs": [
    {
     "data": {
      "text/html": [
       "<div>\n",
       "<style scoped>\n",
       "    .dataframe tbody tr th:only-of-type {\n",
       "        vertical-align: middle;\n",
       "    }\n",
       "\n",
       "    .dataframe tbody tr th {\n",
       "        vertical-align: top;\n",
       "    }\n",
       "\n",
       "    .dataframe thead th {\n",
       "        text-align: right;\n",
       "    }\n",
       "</style>\n",
       "<table border=\"1\" class=\"dataframe\">\n",
       "  <thead>\n",
       "    <tr style=\"text-align: right;\">\n",
       "      <th></th>\n",
       "      <th>Profile Name</th>\n",
       "      <th>Start Time</th>\n",
       "      <th>Duration</th>\n",
       "      <th>Attributes</th>\n",
       "      <th>Title</th>\n",
       "      <th>Supplemental Video Type</th>\n",
       "      <th>Device Type</th>\n",
       "      <th>Bookmark</th>\n",
       "      <th>Latest Bookmark</th>\n",
       "      <th>Country</th>\n",
       "    </tr>\n",
       "  </thead>\n",
       "  <tbody>\n",
       "    <tr>\n",
       "      <th>0</th>\n",
       "      <td>Marta</td>\n",
       "      <td>2021-06-19 10:11:11</td>\n",
       "      <td>00:14:52</td>\n",
       "      <td>Autoplayed: user action: User_Interaction;</td>\n",
       "      <td>Park Jurajski: Obóz Kredowy: Sezon 2: Sztuka r...</td>\n",
       "      <td>NaN</td>\n",
       "      <td>Samsung CE 2020 Nike-L UHD TV (2G) Smart TV</td>\n",
       "      <td>00:23:59</td>\n",
       "      <td>00:23:59</td>\n",
       "      <td>PL (Poland)</td>\n",
       "    </tr>\n",
       "    <tr>\n",
       "      <th>1</th>\n",
       "      <td>Marta</td>\n",
       "      <td>2021-06-19 09:58:20</td>\n",
       "      <td>00:12:06</td>\n",
       "      <td>NaN</td>\n",
       "      <td>Alvinnn!!! I wiewiórki: Sezon 1: Ciasto / Kto ...</td>\n",
       "      <td>NaN</td>\n",
       "      <td>Samsung CE 2020 Nike-L UHD TV (2G) Smart TV</td>\n",
       "      <td>00:22:35</td>\n",
       "      <td>00:22:35</td>\n",
       "      <td>PL (Poland)</td>\n",
       "    </tr>\n",
       "    <tr>\n",
       "      <th>2</th>\n",
       "      <td>Marta</td>\n",
       "      <td>2021-06-19 09:48:32</td>\n",
       "      <td>00:08:27</td>\n",
       "      <td>NaN</td>\n",
       "      <td>Alvinnn!!! I wiewiórki: Sezon 2: Szalony weeke...</td>\n",
       "      <td>NaN</td>\n",
       "      <td>Samsung CE 2020 Nike-L UHD TV (2G) Smart TV</td>\n",
       "      <td>00:22:36</td>\n",
       "      <td>00:22:36</td>\n",
       "      <td>PL (Poland)</td>\n",
       "    </tr>\n",
       "    <tr>\n",
       "      <th>3</th>\n",
       "      <td>Marta</td>\n",
       "      <td>2021-06-19 09:19:38</td>\n",
       "      <td>00:26:54</td>\n",
       "      <td>NaN</td>\n",
       "      <td>Nasza planeta: Sezon 1: Dżungle (Odcinek 3)</td>\n",
       "      <td>NaN</td>\n",
       "      <td>Samsung CE 2020 Nike-L UHD TV (2G) Smart TV</td>\n",
       "      <td>00:49:56</td>\n",
       "      <td>00:49:56</td>\n",
       "      <td>PL (Poland)</td>\n",
       "    </tr>\n",
       "    <tr>\n",
       "      <th>4</th>\n",
       "      <td>Marta</td>\n",
       "      <td>2021-06-18 21:16:25</td>\n",
       "      <td>00:21:07</td>\n",
       "      <td>NaN</td>\n",
       "      <td>Park Jurajski: Obóz Kredowy: Sezon 2: Nadajnik...</td>\n",
       "      <td>NaN</td>\n",
       "      <td>Samsung CE 2020 Nike-L UHD TV (2G) Smart TV</td>\n",
       "      <td>00:21:52</td>\n",
       "      <td>00:21:52</td>\n",
       "      <td>PL (Poland)</td>\n",
       "    </tr>\n",
       "  </tbody>\n",
       "</table>\n",
       "</div>"
      ],
      "text/plain": [
       "  Profile Name           Start Time  Duration  \\\n",
       "0        Marta  2021-06-19 10:11:11  00:14:52   \n",
       "1        Marta  2021-06-19 09:58:20  00:12:06   \n",
       "2        Marta  2021-06-19 09:48:32  00:08:27   \n",
       "3        Marta  2021-06-19 09:19:38  00:26:54   \n",
       "4        Marta  2021-06-18 21:16:25  00:21:07   \n",
       "\n",
       "                                    Attributes  \\\n",
       "0  Autoplayed: user action: User_Interaction;    \n",
       "1                                          NaN   \n",
       "2                                          NaN   \n",
       "3                                          NaN   \n",
       "4                                          NaN   \n",
       "\n",
       "                                               Title Supplemental Video Type  \\\n",
       "0  Park Jurajski: Obóz Kredowy: Sezon 2: Sztuka r...                     NaN   \n",
       "1  Alvinnn!!! I wiewiórki: Sezon 1: Ciasto / Kto ...                     NaN   \n",
       "2  Alvinnn!!! I wiewiórki: Sezon 2: Szalony weeke...                     NaN   \n",
       "3        Nasza planeta: Sezon 1: Dżungle (Odcinek 3)                     NaN   \n",
       "4  Park Jurajski: Obóz Kredowy: Sezon 2: Nadajnik...                     NaN   \n",
       "\n",
       "                                   Device Type  Bookmark Latest Bookmark  \\\n",
       "0  Samsung CE 2020 Nike-L UHD TV (2G) Smart TV  00:23:59        00:23:59   \n",
       "1  Samsung CE 2020 Nike-L UHD TV (2G) Smart TV  00:22:35        00:22:35   \n",
       "2  Samsung CE 2020 Nike-L UHD TV (2G) Smart TV  00:22:36        00:22:36   \n",
       "3  Samsung CE 2020 Nike-L UHD TV (2G) Smart TV  00:49:56        00:49:56   \n",
       "4  Samsung CE 2020 Nike-L UHD TV (2G) Smart TV  00:21:52        00:21:52   \n",
       "\n",
       "       Country  \n",
       "0  PL (Poland)  \n",
       "1  PL (Poland)  \n",
       "2  PL (Poland)  \n",
       "3  PL (Poland)  \n",
       "4  PL (Poland)  "
      ]
     },
     "execution_count": 4,
     "metadata": {},
     "output_type": "execute_result"
    }
   ],
   "source": [
    "df.head()"
   ]
  },
  {
   "cell_type": "markdown",
   "id": "f7b1e387",
   "metadata": {},
   "source": [
    "Dropping Unnecessary Columns"
   ]
  },
  {
   "cell_type": "code",
   "execution_count": 5,
   "id": "061dfb5b",
   "metadata": {},
   "outputs": [
    {
     "data": {
      "text/html": [
       "<div>\n",
       "<style scoped>\n",
       "    .dataframe tbody tr th:only-of-type {\n",
       "        vertical-align: middle;\n",
       "    }\n",
       "\n",
       "    .dataframe tbody tr th {\n",
       "        vertical-align: top;\n",
       "    }\n",
       "\n",
       "    .dataframe thead th {\n",
       "        text-align: right;\n",
       "    }\n",
       "</style>\n",
       "<table border=\"1\" class=\"dataframe\">\n",
       "  <thead>\n",
       "    <tr style=\"text-align: right;\">\n",
       "      <th></th>\n",
       "      <th>Start Time</th>\n",
       "      <th>Duration</th>\n",
       "      <th>Title</th>\n",
       "      <th>Country</th>\n",
       "    </tr>\n",
       "  </thead>\n",
       "  <tbody>\n",
       "    <tr>\n",
       "      <th>0</th>\n",
       "      <td>2021-06-19 10:11:11</td>\n",
       "      <td>00:14:52</td>\n",
       "      <td>Park Jurajski: Obóz Kredowy: Sezon 2: Sztuka r...</td>\n",
       "      <td>PL (Poland)</td>\n",
       "    </tr>\n",
       "    <tr>\n",
       "      <th>1</th>\n",
       "      <td>2021-06-19 09:58:20</td>\n",
       "      <td>00:12:06</td>\n",
       "      <td>Alvinnn!!! I wiewiórki: Sezon 1: Ciasto / Kto ...</td>\n",
       "      <td>PL (Poland)</td>\n",
       "    </tr>\n",
       "    <tr>\n",
       "      <th>2</th>\n",
       "      <td>2021-06-19 09:48:32</td>\n",
       "      <td>00:08:27</td>\n",
       "      <td>Alvinnn!!! I wiewiórki: Sezon 2: Szalony weeke...</td>\n",
       "      <td>PL (Poland)</td>\n",
       "    </tr>\n",
       "    <tr>\n",
       "      <th>3</th>\n",
       "      <td>2021-06-19 09:19:38</td>\n",
       "      <td>00:26:54</td>\n",
       "      <td>Nasza planeta: Sezon 1: Dżungle (Odcinek 3)</td>\n",
       "      <td>PL (Poland)</td>\n",
       "    </tr>\n",
       "    <tr>\n",
       "      <th>4</th>\n",
       "      <td>2021-06-18 21:16:25</td>\n",
       "      <td>00:21:07</td>\n",
       "      <td>Park Jurajski: Obóz Kredowy: Sezon 2: Nadajnik...</td>\n",
       "      <td>PL (Poland)</td>\n",
       "    </tr>\n",
       "  </tbody>\n",
       "</table>\n",
       "</div>"
      ],
      "text/plain": [
       "            Start Time  Duration  \\\n",
       "0  2021-06-19 10:11:11  00:14:52   \n",
       "1  2021-06-19 09:58:20  00:12:06   \n",
       "2  2021-06-19 09:48:32  00:08:27   \n",
       "3  2021-06-19 09:19:38  00:26:54   \n",
       "4  2021-06-18 21:16:25  00:21:07   \n",
       "\n",
       "                                               Title      Country  \n",
       "0  Park Jurajski: Obóz Kredowy: Sezon 2: Sztuka r...  PL (Poland)  \n",
       "1  Alvinnn!!! I wiewiórki: Sezon 1: Ciasto / Kto ...  PL (Poland)  \n",
       "2  Alvinnn!!! I wiewiórki: Sezon 2: Szalony weeke...  PL (Poland)  \n",
       "3        Nasza planeta: Sezon 1: Dżungle (Odcinek 3)  PL (Poland)  \n",
       "4  Park Jurajski: Obóz Kredowy: Sezon 2: Nadajnik...  PL (Poland)  "
      ]
     },
     "execution_count": 5,
     "metadata": {},
     "output_type": "execute_result"
    }
   ],
   "source": [
    "df = df.drop(['Profile Name','Attributes','Supplemental Video Type','Device Type','Bookmark','Latest Bookmark'], axis=1)\n",
    "df.head()"
   ]
  },
  {
   "cell_type": "markdown",
   "id": "15e3c36c",
   "metadata": {},
   "source": [
    "Converting Strings to Datetime and Timedelta in Pandas"
   ]
  },
  {
   "cell_type": "code",
   "execution_count": 6,
   "id": "617bfa0e",
   "metadata": {},
   "outputs": [
    {
     "data": {
      "text/plain": [
       "Start Time    object\n",
       "Duration      object\n",
       "Title         object\n",
       "Country       object\n",
       "dtype: object"
      ]
     },
     "execution_count": 6,
     "metadata": {},
     "output_type": "execute_result"
    }
   ],
   "source": [
    "df.dtypes"
   ]
  },
  {
   "cell_type": "code",
   "execution_count": 8,
   "id": "c50ed207",
   "metadata": {},
   "outputs": [
    {
     "data": {
      "text/plain": [
       "Start Time    datetime64[ns, UTC]\n",
       "Duration                   object\n",
       "Title                      object\n",
       "Country                    object\n",
       "dtype: object"
      ]
     },
     "execution_count": 8,
     "metadata": {},
     "output_type": "execute_result"
    }
   ],
   "source": [
    "df['Start Time'] = pd.to_datetime(df['Start Time'], utc=True)\n",
    "df.dtypes"
   ]
  },
  {
   "cell_type": "code",
   "execution_count": 9,
   "id": "9f93c29d",
   "metadata": {},
   "outputs": [],
   "source": [
    "# I'm changing the Start Time column into the dataframe's index.\n",
    "df = df.set_index('Start Time')"
   ]
  },
  {
   "cell_type": "code",
   "execution_count": 10,
   "id": "67e11693",
   "metadata": {},
   "outputs": [],
   "source": [
    "# I'm converting from UTC timezone to warsaw time.\n",
    "df.index = df.index.tz_convert('Europe/Warsaw')"
   ]
  },
  {
   "cell_type": "code",
   "execution_count": 11,
   "id": "a57e4b45",
   "metadata": {},
   "outputs": [],
   "source": [
    "# I'm reseting the index so that Start Time becomes a column again.\n",
    "df = df.reset_index()"
   ]
  },
  {
   "cell_type": "code",
   "execution_count": 12,
   "id": "2f8cb015",
   "metadata": {},
   "outputs": [
    {
     "data": {
      "text/html": [
       "<div>\n",
       "<style scoped>\n",
       "    .dataframe tbody tr th:only-of-type {\n",
       "        vertical-align: middle;\n",
       "    }\n",
       "\n",
       "    .dataframe tbody tr th {\n",
       "        vertical-align: top;\n",
       "    }\n",
       "\n",
       "    .dataframe thead th {\n",
       "        text-align: right;\n",
       "    }\n",
       "</style>\n",
       "<table border=\"1\" class=\"dataframe\">\n",
       "  <thead>\n",
       "    <tr style=\"text-align: right;\">\n",
       "      <th></th>\n",
       "      <th>Start Time</th>\n",
       "      <th>Duration</th>\n",
       "      <th>Title</th>\n",
       "      <th>Country</th>\n",
       "    </tr>\n",
       "  </thead>\n",
       "  <tbody>\n",
       "    <tr>\n",
       "      <th>0</th>\n",
       "      <td>2021-06-19 12:11:11+02:00</td>\n",
       "      <td>00:14:52</td>\n",
       "      <td>Park Jurajski: Obóz Kredowy: Sezon 2: Sztuka r...</td>\n",
       "      <td>PL (Poland)</td>\n",
       "    </tr>\n",
       "    <tr>\n",
       "      <th>1</th>\n",
       "      <td>2021-06-19 11:58:20+02:00</td>\n",
       "      <td>00:12:06</td>\n",
       "      <td>Alvinnn!!! I wiewiórki: Sezon 1: Ciasto / Kto ...</td>\n",
       "      <td>PL (Poland)</td>\n",
       "    </tr>\n",
       "    <tr>\n",
       "      <th>2</th>\n",
       "      <td>2021-06-19 11:48:32+02:00</td>\n",
       "      <td>00:08:27</td>\n",
       "      <td>Alvinnn!!! I wiewiórki: Sezon 2: Szalony weeke...</td>\n",
       "      <td>PL (Poland)</td>\n",
       "    </tr>\n",
       "    <tr>\n",
       "      <th>3</th>\n",
       "      <td>2021-06-19 11:19:38+02:00</td>\n",
       "      <td>00:26:54</td>\n",
       "      <td>Nasza planeta: Sezon 1: Dżungle (Odcinek 3)</td>\n",
       "      <td>PL (Poland)</td>\n",
       "    </tr>\n",
       "    <tr>\n",
       "      <th>4</th>\n",
       "      <td>2021-06-18 23:16:25+02:00</td>\n",
       "      <td>00:21:07</td>\n",
       "      <td>Park Jurajski: Obóz Kredowy: Sezon 2: Nadajnik...</td>\n",
       "      <td>PL (Poland)</td>\n",
       "    </tr>\n",
       "  </tbody>\n",
       "</table>\n",
       "</div>"
      ],
      "text/plain": [
       "                 Start Time  Duration  \\\n",
       "0 2021-06-19 12:11:11+02:00  00:14:52   \n",
       "1 2021-06-19 11:58:20+02:00  00:12:06   \n",
       "2 2021-06-19 11:48:32+02:00  00:08:27   \n",
       "3 2021-06-19 11:19:38+02:00  00:26:54   \n",
       "4 2021-06-18 23:16:25+02:00  00:21:07   \n",
       "\n",
       "                                               Title      Country  \n",
       "0  Park Jurajski: Obóz Kredowy: Sezon 2: Sztuka r...  PL (Poland)  \n",
       "1  Alvinnn!!! I wiewiórki: Sezon 1: Ciasto / Kto ...  PL (Poland)  \n",
       "2  Alvinnn!!! I wiewiórki: Sezon 2: Szalony weeke...  PL (Poland)  \n",
       "3        Nasza planeta: Sezon 1: Dżungle (Odcinek 3)  PL (Poland)  \n",
       "4  Park Jurajski: Obóz Kredowy: Sezon 2: Nadajnik...  PL (Poland)  "
      ]
     },
     "execution_count": 12,
     "metadata": {},
     "output_type": "execute_result"
    }
   ],
   "source": [
    "# double-check that it worked.\n",
    "df.head()"
   ]
  },
  {
   "cell_type": "code",
   "execution_count": null,
   "id": "6cc07cce",
   "metadata": {},
   "outputs": [],
   "source": []
  }
 ],
 "metadata": {
  "kernelspec": {
   "display_name": "Python 3",
   "language": "python",
   "name": "python3"
  },
  "language_info": {
   "codemirror_mode": {
    "name": "ipython",
    "version": 3
   },
   "file_extension": ".py",
   "mimetype": "text/x-python",
   "name": "python",
   "nbconvert_exporter": "python",
   "pygments_lexer": "ipython3",
   "version": "3.8.10"
  }
 },
 "nbformat": 4,
 "nbformat_minor": 5
}
